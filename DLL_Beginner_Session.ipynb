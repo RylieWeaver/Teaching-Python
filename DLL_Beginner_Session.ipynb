{
  "nbformat": 4,
  "nbformat_minor": 0,
  "metadata": {
    "colab": {
      "provenance": [],
      "authorship_tag": "ABX9TyO7Qe+JHEP1+fDSbtiWT+Fl",
      "include_colab_link": true
    },
    "kernelspec": {
      "name": "python3",
      "display_name": "Python 3"
    },
    "language_info": {
      "name": "python"
    }
  },
  "cells": [
    {
      "cell_type": "markdown",
      "metadata": {
        "id": "view-in-github",
        "colab_type": "text"
      },
      "source": [
        "<a href=\"https://colab.research.google.com/github/RylieWeaver9/Teaching-Python-Digital-Learning-Lab-/blob/main/DLL_Beginner_Session_Walkthrough.ipynb\" target=\"_parent\"><img src=\"https://colab.research.google.com/assets/colab-badge.svg\" alt=\"Open In Colab\"/></a>"
      ]
    },
    {
      "cell_type": "markdown",
      "source": [
        "# **Welcome to 'Strangle the Code - Python Workshop'**"
      ],
      "metadata": {
        "id": "aEX-xKfanCJ_"
      }
    },
    {
      "cell_type": "markdown",
      "source": [
        "## Hosted By: Rylie Weaver w/ the Digital Learning Lab\n",
        "## Method: Google Colaboratory\n",
        "## Topics: Setup, Variables, Algebra, Loops, Graphing, Plotting, and more\n",
        "## Level: **Beginner**\n",
        "- We can speed up or slow down as we like\n",
        "- The goal is to lay a strong foundation\n",
        "- Intermediate session later"
      ],
      "metadata": {
        "id": "t89R5AURnQvt"
      }
    },
    {
      "cell_type": "markdown",
      "source": [
        "## Setup: \n",
        "- What is colab and how does it work?"
      ],
      "metadata": {
        "id": "7f4h9wD8ppB6"
      }
    },
    {
      "cell_type": "markdown",
      "source": [
        "## Variables, Algebra, and Loops\n",
        "- What is a variable?\n",
        "- What is an algebraic function/what is an algebraic operation?\n",
        "- What is a loop?"
      ],
      "metadata": {
        "id": "b6eSUOXxp3wa"
      }
    },
    {
      "cell_type": "code",
      "source": [
        "x=0\n",
        "# print(x)\n",
        "# x = x**2\n",
        "# print(x)\n",
        "# x = x**2\n",
        "print(x)"
      ],
      "metadata": {
        "colab": {
          "base_uri": "https://localhost:8080/"
        },
        "id": "QUeprGhGN49v",
        "outputId": "71068090-83b3-4ade-ebd8-a6487c20455c"
      },
      "execution_count": null,
      "outputs": [
        {
          "output_type": "stream",
          "name": "stdout",
          "text": [
            "0\n"
          ]
        }
      ]
    },
    {
      "cell_type": "code",
      "execution_count": null,
      "metadata": {
        "id": "nUFlCKPXm5YH",
        "colab": {
          "base_uri": "https://localhost:8080/"
        },
        "outputId": "52563971-046b-410b-ea34-8e7151d9a402"
      },
      "outputs": [
        {
          "output_type": "stream",
          "name": "stdout",
          "text": [
            "2\n",
            "4\n",
            "9\n",
            "3\n",
            "6\n",
            "16\n",
            "4\n",
            "8\n",
            "25\n"
          ]
        }
      ],
      "source": [
        "for i in range (3):\n",
        "  print (x)\n",
        "  y = 2*x\n",
        "  x = x + 1\n",
        "  z = x**2\n",
        "  print (y)\n",
        "  print (z)"
      ]
    },
    {
      "cell_type": "code",
      "source": [
        "for i in range(3):\n",
        "  print(x)\n",
        "  x = (x+1)/3"
      ],
      "metadata": {
        "colab": {
          "base_uri": "https://localhost:8080/"
        },
        "id": "KsNHLKnaSP-o",
        "outputId": "31a8fb92-2e91-42f1-ee9c-af503cb6112e"
      },
      "execution_count": null,
      "outputs": [
        {
          "output_type": "stream",
          "name": "stdout",
          "text": [
            "0.5008890921099426\n",
            "0.5002963640366476\n",
            "0.5000987880122159\n"
          ]
        }
      ]
    },
    {
      "cell_type": "code",
      "source": [
        "x=2"
      ],
      "metadata": {
        "id": "ZWdrqatVQXM4"
      },
      "execution_count": null,
      "outputs": []
    },
    {
      "cell_type": "code",
      "source": [
        "for i in range (3):\n",
        "  print (i)\n",
        "  x = 2*x\n",
        "  x = x**2\n",
        "  print (x)"
      ],
      "metadata": {
        "colab": {
          "base_uri": "https://localhost:8080/"
        },
        "id": "dKdQgArwQFbb",
        "outputId": "44416aa2-a83b-4a77-f220-e6e2b62547d8"
      },
      "execution_count": null,
      "outputs": [
        {
          "output_type": "stream",
          "name": "stdout",
          "text": [
            "0\n",
            "16\n",
            "1\n",
            "1024\n",
            "2\n",
            "4194304\n"
          ]
        }
      ]
    },
    {
      "cell_type": "markdown",
      "source": [
        "## Graphing/Plotting"
      ],
      "metadata": {
        "id": "jNbaBPGI0Gr6"
      }
    },
    {
      "cell_type": "code",
      "source": [
        "import matplotlib.pyplot as plt\n",
        "x = [-1,0,1]\n",
        "y = [2,0,-1]\n",
        "plt.plot(x,y)\n",
        "# plt.scatter(x,y, c='blue')\n",
        "plt.show()"
      ],
      "metadata": {
        "id": "pWZqQUjY0K_J",
        "colab": {
          "base_uri": "https://localhost:8080/",
          "height": 265
        },
        "outputId": "ce405c4c-5a2a-4c2f-b128-370339cf409b"
      },
      "execution_count": null,
      "outputs": [
        {
          "output_type": "display_data",
          "data": {
            "text/plain": [
              "<Figure size 432x288 with 1 Axes>"
            ],
            "image/png": "[encoded data removed]"
          },
          "metadata": {
            "needs_background": "light"
          }
        }
      ]
    },
    {
      "cell_type": "code",
      "source": [
        "x = [-1,0,1]\n",
        "y = [2,0,-2]"
      ],
      "metadata": {
        "id": "XHb9yZAoV3gb"
      },
      "execution_count": null,
      "outputs": []
    },
    {
      "cell_type": "code",
      "source": [
        "for j in range(len(x)):\n",
        "  x[j]= 2*x[j]\n",
        "  print(x)"
      ],
      "metadata": {
        "colab": {
          "base_uri": "https://localhost:8080/"
        },
        "id": "nZ57OwrAVznM",
        "outputId": "88f3d2dc-2c6a-48ed-9ec4-d2131dfcd8ca"
      },
      "execution_count": null,
      "outputs": [
        {
          "output_type": "stream",
          "name": "stdout",
          "text": [
            "[-2, 0, 1]\n",
            "[-2, 0, 1]\n",
            "[-2, 0, 2]\n"
          ]
        }
      ]
    },
    {
      "cell_type": "code",
      "source": [
        "for i in range(3):\n",
        "  for j in range(len(x)):\n",
        "    x[j]= 2*x[j]\n",
        "  plt.plot(x,y)"
      ],
      "metadata": {
        "colab": {
          "base_uri": "https://localhost:8080/",
          "height": 265
        },
        "id": "vFXOrx9AV2p_",
        "outputId": "e76398dc-7389-4de9-d09c-6fa8b5421c7f"
      },
      "execution_count": null,
      "outputs": [
        {
          "output_type": "display_data",
          "data": {
            "text/plain": [
              "<Figure size 432x288 with 1 Axes>"
            ],
            "image/png": "[encoded data removed]"
          },
          "metadata": {
            "needs_background": "light"
          }
        }
      ]
    }
  ]
}
